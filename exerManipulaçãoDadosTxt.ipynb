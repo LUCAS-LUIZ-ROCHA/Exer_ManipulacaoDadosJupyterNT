{
 "cells": [
  {
   "cell_type": "code",
   "execution_count": 19,
   "id": "a244b11d",
   "metadata": {},
   "outputs": [
    {
     "name": "stdout",
     "output_type": "stream",
     "text": [
      "Nome do arquivo: lucasteste.txt\n",
      "Modo do arquivo: r\n",
      "Iterando sobre o arquivo\n",
      "'OlÃ¡ mundo!\\n'\n",
      "'Sou o Lucas Luiz\\n'\n",
      "'Este Ã© um teste para manipular dados.\\n'\n",
      "'\\n'\n",
      "'Lets go study!'\n"
     ]
    }
   ],
   "source": [
    "#abrindo um arquivo\n",
    "\n",
    "arquivo = open (\"lucasteste.txt\", \"r\")\n",
    "print(\"Nome do arquivo:\", arquivo.name)\n",
    "print(\"Modo do arquivo:\", arquivo.mode)\n",
    "\n",
    "\n",
    "#Iterando o arquivo\n",
    "print(\"Iterando sobre o arquivo\")\n",
    "for linha in arquivo:\n",
    "    print(repr(linha))\n",
    "    \n",
    "arquivo.close()\n",
    "    \n",
    "\n"
   ]
  },
  {
   "cell_type": "code",
   "execution_count": 29,
   "id": "27347f79",
   "metadata": {
    "scrolled": true
   },
   "outputs": [],
   "source": [
    "#Usando write\n",
    "\n",
    "arquivo_escrita = open(\"lucasteste.txt\", \"w\")\n",
    "arquivo_escrita.write(\"Conteúdo da primeira linha\")\n",
    "arquivo_escrita.write(\"\\nConteúdo da segunda linha\")\n",
    "arquivo_escrita.close()\n"
   ]
  },
  {
   "cell_type": "code",
   "execution_count": 30,
   "id": "39dbbb23",
   "metadata": {},
   "outputs": [],
   "source": [
    "#usando append\n",
    "\n",
    "arquivo_escrita = open(\"lucasteste.txt\", \"a\")\n",
    "arquivo_escrita.write(\"\\nConteúdo da adicionado\")\n",
    "arquivo_escrita.close()\n"
   ]
  },
  {
   "cell_type": "code",
   "execution_count": 35,
   "id": "51faeab0",
   "metadata": {},
   "outputs": [
    {
     "name": "stdout",
     "output_type": "stream",
     "text": [
      "Iterando sobre o arquivo\n",
      "'Conteúdo da primeira linha\\n'\n",
      "'Conteúdo da segunda linha\\n'\n",
      "'Conteúdo da adicionado'\n"
     ]
    }
   ],
   "source": [
    "#saída dos resultados\n",
    "\n",
    "arquivo = open (\"lucasteste.txt\", \"r\")\n",
    "print(\"Iterando sobre o arquivo\")\n",
    "for linha in arquivo:\n",
    "    print(repr(linha))\n",
    "    \n",
    "arquivo.close()"
   ]
  },
  {
   "cell_type": "code",
   "execution_count": 1,
   "id": "344e18da",
   "metadata": {},
   "outputs": [
    {
     "name": "stdout",
     "output_type": "stream",
     "text": [
      "Conteúdo da primeira linha\n",
      "\n",
      "Conteúdo da segunda linha\n",
      "\n",
      "Conteúdo da adicionado\n",
      "Fim do arquivo lucasteste.txt\n"
     ]
    }
   ],
   "source": [
    "#Boa prática é usar o 'with', ele fecha o arquivo depois do uso.\n",
    "\n",
    "with open (\"lucasteste.txt\",\"r\") as arquivo:\n",
    "    for linha in arquivo:\n",
    "        print(linha)\n",
    "    print(\"Fim do arquivo\", arquivo.name)"
   ]
  },
  {
   "cell_type": "code",
   "execution_count": 2,
   "id": "0064b1d4",
   "metadata": {},
   "outputs": [
    {
     "name": "stdout",
     "output_type": "stream",
     "text": [
      "Representação da linha após o strip\n",
      "'Conteúdo da primeira linha'\n",
      "'Conteúdo da segunda linha'\n",
      "'Conteúdo da adicionado'\n"
     ]
    }
   ],
   "source": [
    "#Limpando os dados de saída com 'srip'\n",
    "\n",
    "with open (\"lucasteste.txt\", \"r\") as arquivo:\n",
    "    print(\"Representação da linha após o strip\")\n",
    "    for linha in arquivo:\n",
    "        linha_limpa = linha.strip()\n",
    "        print(repr(linha_limpa))\n",
    "\n"
   ]
  },
  {
   "cell_type": "code",
   "execution_count": 3,
   "id": "e2ab865d",
   "metadata": {},
   "outputs": [
    {
     "name": "stdout",
     "output_type": "stream",
     "text": [
      "Total real de linhas no arquivo\n",
      "Total real = 3\n"
     ]
    }
   ],
   "source": [
    "#contando linhas \n",
    "\n",
    "with open (\"lucasteste.txt\", \"r\") as arquivo:\n",
    "    print(\"Total real de linhas no arquivo\")\n",
    "    contador = 0\n",
    "    \n",
    "    for linha in arquivo:\n",
    "        if linha.strip():\n",
    "            contador += 1\n",
    "    print(\"Total real =\", contador)"
   ]
  },
  {
   "cell_type": "code",
   "execution_count": 4,
   "id": "077d6e0c",
   "metadata": {},
   "outputs": [
    {
     "name": "stdout",
     "output_type": "stream",
     "text": [
      "total de vezes que a palavra 'Conteúdo' aparece é = 3\n"
     ]
    }
   ],
   "source": [
    "# contando quantas vezes uma palavra apareceu usando 'count'\n",
    "\n",
    "with open (\"lucasteste.txt\", \"r\") as arquivo:\n",
    "    texto = arquivo.read()\n",
    "    contador = texto.count(\"Conteúdo\")\n",
    "    print(\"total de vezes que a palavra 'Conteúdo' aparece é =\", contador)"
   ]
  },
  {
   "cell_type": "code",
   "execution_count": 6,
   "id": "ac3382d8",
   "metadata": {},
   "outputs": [
    {
     "name": "stdout",
     "output_type": "stream",
     "text": [
      "Contagem direta: 2\n",
      "Contagem correta: 1\n"
     ]
    }
   ],
   "source": [
    "# ultilizando 'split' para quebrar uma frase em palavras\n",
    "\n",
    "frase = \"Eu amo comer amoras no café da manhã\"\n",
    "\n",
    "#resultado ultilizando o método count\n",
    "print(\"Contagem direta:\", frase.count(\"amo\"))\n",
    "\n",
    "#resultado obtido ultilizando a quebra de palavras\n",
    "contador = 0\n",
    "lista_termos = frase.split()\n",
    "for termo in lista_termos:\n",
    "    if termo == \"amo\":\n",
    "        contador += 1\n",
    "\n",
    "print(\"Contagem correta:\", contador)"
   ]
  },
  {
   "cell_type": "code",
   "execution_count": 20,
   "id": "5bc84610",
   "metadata": {
    "scrolled": true
   },
   "outputs": [
    {
     "name": "stdout",
     "output_type": "stream",
     "text": [
      "texto 1 =  Arroz,Feijão,Macarrão\n",
      "texto 2 = \n",
      " Arroz\n",
      "Feijão\n",
      "Macarrão\n"
     ]
    }
   ],
   "source": [
    "#concatenção de listas em uma string com 'join'\n",
    "\n",
    "minha_lista = [\"Arroz\", \"Feijão\", \"Macarrão\"]\n",
    "\n",
    "texto1 = ','.join(minha_lista)\n",
    "\n",
    "with open (\"texto1.txt\", \"w\") as arquivo:\n",
    "    arquivo.write(texto1)\n",
    "print(\"texto 1 = \", texto1)\n",
    "\n",
    "texto2 = '\\n'.join(minha_lista)\n",
    "\n",
    "with open (\"texto2.txt\", \"w\") as arquivo:\n",
    "    arquivo.write(texto1)\n",
    "print(\"texto 2 = \\n\", texto2)\n",
    "\n",
    "\n",
    "\n"
   ]
  },
  {
   "cell_type": "code",
   "execution_count": 5,
   "id": "141200e2",
   "metadata": {},
   "outputs": [
    {
     "name": "stdout",
     "output_type": "stream",
     "text": [
      "Abrindo arquivo\n",
      "arquivo aberto com sucesso!\n",
      "término do programa\n"
     ]
    }
   ],
   "source": [
    "#tratando erros ao abrir um arquivo com try/except\n",
    "print(\"Abrindo arquivo\")\n",
    "\n",
    "try:\n",
    "    open (\"lucasteste.txt\")\n",
    "    print(\"arquivo aberto com sucesso!\")\n",
    "except FileNotFoundError as erro:\n",
    "    print(\"Arquivo não existente\")\n",
    "    print(\"Descrição\", erro)\n",
    "\n",
    "print(\"término do programa\")"
   ]
  },
  {
   "cell_type": "code",
   "execution_count": 6,
   "id": "42f2fe83",
   "metadata": {},
   "outputs": [
    {
     "name": "stdout",
     "output_type": "stream",
     "text": [
      "Arquivo renomeado com sucesso\n",
      "Término do programa\n"
     ]
    }
   ],
   "source": [
    "#renomear um arquivo\n",
    "\n",
    "import os\n",
    "\n",
    "try:\n",
    "    os.rename(\"texto1.txt\",\"mudou1.txt\")\n",
    "    print(\"Arquivo renomeado com sucesso\")\n",
    "    \n",
    "except FileNotFoundError as erro:\n",
    "    print(\"Arquivo não existente\")\n",
    "    print(\"Descrição\", erro)\n",
    "\n",
    "except PermissionError as erro:\n",
    "    print(\"Sem permissão para acessar esse arquivo\")\n",
    "    print(\"Descrição\", erro)\n",
    "    \n",
    "except FileExistsError as erro:\n",
    "    print(\"Arquivo destino já existente\")\n",
    "    print(\"Descrição\", erro)\n",
    "    \n",
    "print(\"Término do programa\")\n"
   ]
  },
  {
   "cell_type": "code",
   "execution_count": 9,
   "id": "1ba238ed",
   "metadata": {},
   "outputs": [
    {
     "name": "stdout",
     "output_type": "stream",
     "text": [
      "Arquivo removido com sucesso\n",
      "Término do programa\n"
     ]
    }
   ],
   "source": [
    "#remover um arquivo\n",
    "\n",
    "import os\n",
    "\n",
    "try:\n",
    "    os.remove(\"texto2.txt\")\n",
    "    print(\"Arquivo removido com sucesso\")\n",
    "    \n",
    "except FileNotFoundError as erro:\n",
    "    print(\"Arquivo não existente\")\n",
    "    print(\"Descrição\", erro)\n",
    "\n",
    "except PermissionError as erro:\n",
    "    print(\"Sem permissão para acessar esse arquivo\")\n",
    "    print(\"Descrição\", erro)\n",
    "    \n",
    "except IsADirectoryError as erro:\n",
    "    print(\"Remover serve apenas para arquivos\")\n",
    "    print(\"Descrição\", erro)\n",
    "    \n",
    "print(\"Término do programa\")"
   ]
  },
  {
   "cell_type": "code",
   "execution_count": null,
   "id": "6d5e19c6",
   "metadata": {},
   "outputs": [],
   "source": []
  }
 ],
 "metadata": {
  "kernelspec": {
   "display_name": "Python 3 (ipykernel)",
   "language": "python",
   "name": "python3"
  },
  "language_info": {
   "codemirror_mode": {
    "name": "ipython",
    "version": 3
   },
   "file_extension": ".py",
   "mimetype": "text/x-python",
   "name": "python",
   "nbconvert_exporter": "python",
   "pygments_lexer": "ipython3",
   "version": "3.9.13"
  }
 },
 "nbformat": 4,
 "nbformat_minor": 5
}
